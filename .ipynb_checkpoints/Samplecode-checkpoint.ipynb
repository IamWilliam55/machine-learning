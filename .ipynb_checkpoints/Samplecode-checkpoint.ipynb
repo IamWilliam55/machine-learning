{
 "cells": [
  {
   "cell_type": "markdown",
   "metadata": {
    "colab_type": "text",
    "id": "view-in-github"
   },
   "source": [
    "<a href=\"https://colab.research.google.com/github/IamWilliam55/machine-learning/blob/main/Samplecode.ipynb\" target=\"_parent\"><img src=\"https://colab.research.google.com/assets/colab-badge.svg\" alt=\"Open In Colab\"/></a>"
   ]
  },
  {
   "cell_type": "markdown",
   "metadata": {},
   "source": [
    "This is Kiwalabye's Work"
   ]
  },
  {
   "cell_type": "code",
   "execution_count": null,
   "metadata": {
    "id": "DveTpALy5OnJ"
   },
   "outputs": [],
   "source": [
    "# Step 1: Import Libraries\n",
    "import pandas as pd\n",
    "from sklearn.model_selection import train_test_split\n",
    "from sklearn.preprocessing import StandardScaler\n",
    "from sklearn.linear_model import LogisticRegression\n",
    "from sklearn.ensemble import RandomForestClassifier\n",
    "from sklearn.svm import SVC\n",
    "from sklearn.metrics import accuracy_score, precision_score, recall_score, f1_score\n",
    "\n",
    "# Step 2: Load and Preprocess the Data\n",
    "data = pd.read_csv('your_dataset.csv')  # Replace 'your_dataset.csv' with your dataset file path\n",
    "\n",
    "# Preprocessing steps (modify based on your data)\n",
    "# Handle missing values\n",
    "# Encode categorical variables\n",
    "# Scale numeric features\n",
    "\n",
    "X = data.drop('target_variable', axis=1)  # Replace 'target_variable' with your target column name\n",
    "y = data['target_variable']\n",
    "\n",
    "X_train, X_test, y_train, y_test = train_test_split(X, y, test_size=0.2, random_state=42)\n",
    "\n",
    "# Step 3: Choose Algorithms\n",
    "logistic_model = LogisticRegression()\n",
    "random_forest_model = RandomForestClassifier()\n",
    "svm_model = SVC()\n",
    "\n",
    "# Step 4: Train and Evaluate Models\n",
    "models = [logistic_model, random_forest_model, svm_model]\n",
    "\n",
    "for model in models:\n",
    "    model.fit(X_train, y_train)\n",
    "    y_pred = model.predict(X_test)\n",
    "\n",
    "    # Step 5: Compare Performance\n",
    "    accuracy = accuracy_score(y_test, y_pred)\n",
    "    precision = precision_score(y_test, y_pred)\n",
    "    recall = recall_score(y_test, y_pred)\n",
    "    f1 = f1_score(y_test, y_pred)\n",
    "\n",
    "    print(f\"Model: {type(model).__name__}\")\n",
    "    print(f\"Accuracy: {accuracy:.4f}\")\n",
    "    print(f\"Precision: {precision:.4f}\")\n",
    "    print(f\"Recall: {recall:.4f}\")\n",
    "    print(f\"F1 Score: {f1:.4f}\")\n",
    "    print()\n",
    "\n",
    "# Step 6: Fine-tuning and Cross-validation (Optional)\n",
    "# Perform hyperparameter tuning and cross-validation if desired\n",
    "\n",
    "# Step 7: Finalize the Model\n",
    "final_model = logistic_model  # Replace with the best-performing model\n",
    "final_model.fit(X, y)  # Train on the entire dataset\n",
    "\n",
    "# Use the final_model for predictions on new data\n"
   ]
  }
 ],
 "metadata": {
  "colab": {
   "authorship_tag": "ABX9TyMOPyjIeEHymEk1AUKx5vE2",
   "include_colab_link": true,
   "provenance": []
  },
  "kernelspec": {
   "display_name": "Python 3 (ipykernel)",
   "language": "python",
   "name": "python3"
  },
  "language_info": {
   "codemirror_mode": {
    "name": "ipython",
    "version": 3
   },
   "file_extension": ".py",
   "mimetype": "text/x-python",
   "name": "python",
   "nbconvert_exporter": "python",
   "pygments_lexer": "ipython3",
   "version": "3.9.12"
  }
 },
 "nbformat": 4,
 "nbformat_minor": 1
}
